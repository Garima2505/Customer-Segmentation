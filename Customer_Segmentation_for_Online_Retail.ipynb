{
 "cells": [
  {
   "cell_type": "markdown",
   "metadata": {},
   "source": [
    "# Customer Segmentation for Online Retail"
   ]
  },
  {
   "cell_type": "markdown",
   "metadata": {},
   "source": [
    "### Data Loading"
   ]
  },
  {
   "cell_type": "code",
   "execution_count": 1,
   "metadata": {},
   "outputs": [],
   "source": [
    "import warnings\n",
    "warnings.filterwarnings(\"ignore\")\n",
    "\n",
    "import numpy as np\n",
    "import pandas as pd\n",
    "import matplotlib.pyplot as plt\n",
    "import seaborn as sns\n",
    "from sklearn.model_selection import train_test_split\n",
    "from sklearn.preprocessing import LabelEncoder"
   ]
  },
  {
   "cell_type": "code",
   "execution_count": 2,
   "metadata": {},
   "outputs": [
    {
     "data": {
      "text/html": [
       "<div>\n",
       "<style scoped>\n",
       "    .dataframe tbody tr th:only-of-type {\n",
       "        vertical-align: middle;\n",
       "    }\n",
       "\n",
       "    .dataframe tbody tr th {\n",
       "        vertical-align: top;\n",
       "    }\n",
       "\n",
       "    .dataframe thead th {\n",
       "        text-align: right;\n",
       "    }\n",
       "</style>\n",
       "<table border=\"1\" class=\"dataframe\">\n",
       "  <thead>\n",
       "    <tr style=\"text-align: right;\">\n",
       "      <th></th>\n",
       "      <th>ID</th>\n",
       "      <th>InvoiceNo</th>\n",
       "      <th>StockCode</th>\n",
       "      <th>Description</th>\n",
       "      <th>Quantity</th>\n",
       "      <th>InvoiceDate</th>\n",
       "      <th>UnitPrice</th>\n",
       "      <th>CustomerID</th>\n",
       "      <th>Country</th>\n",
       "    </tr>\n",
       "  </thead>\n",
       "  <tbody>\n",
       "    <tr>\n",
       "      <th>0</th>\n",
       "      <td>0</td>\n",
       "      <td>536365</td>\n",
       "      <td>85123A</td>\n",
       "      <td>WHITE HANGING HEART T-LIGHT HOLDER</td>\n",
       "      <td>6</td>\n",
       "      <td>12/1/2010 8:26</td>\n",
       "      <td>2.55</td>\n",
       "      <td>17850.0</td>\n",
       "      <td>United Kingdom</td>\n",
       "    </tr>\n",
       "    <tr>\n",
       "      <th>1</th>\n",
       "      <td>1</td>\n",
       "      <td>536365</td>\n",
       "      <td>71053</td>\n",
       "      <td>WHITE METAL LANTERN</td>\n",
       "      <td>6</td>\n",
       "      <td>12/1/2010 8:26</td>\n",
       "      <td>3.39</td>\n",
       "      <td>17850.0</td>\n",
       "      <td>United Kingdom</td>\n",
       "    </tr>\n",
       "    <tr>\n",
       "      <th>2</th>\n",
       "      <td>2</td>\n",
       "      <td>536365</td>\n",
       "      <td>84406B</td>\n",
       "      <td>CREAM CUPID HEARTS COAT HANGER</td>\n",
       "      <td>8</td>\n",
       "      <td>12/1/2010 8:26</td>\n",
       "      <td>2.75</td>\n",
       "      <td>17850.0</td>\n",
       "      <td>United Kingdom</td>\n",
       "    </tr>\n",
       "    <tr>\n",
       "      <th>3</th>\n",
       "      <td>3</td>\n",
       "      <td>536365</td>\n",
       "      <td>84029G</td>\n",
       "      <td>KNITTED UNION FLAG HOT WATER BOTTLE</td>\n",
       "      <td>6</td>\n",
       "      <td>12/1/2010 8:26</td>\n",
       "      <td>3.39</td>\n",
       "      <td>17850.0</td>\n",
       "      <td>United Kingdom</td>\n",
       "    </tr>\n",
       "    <tr>\n",
       "      <th>4</th>\n",
       "      <td>4</td>\n",
       "      <td>536365</td>\n",
       "      <td>84029E</td>\n",
       "      <td>RED WOOLLY HOTTIE WHITE HEART.</td>\n",
       "      <td>6</td>\n",
       "      <td>12/1/2010 8:26</td>\n",
       "      <td>3.39</td>\n",
       "      <td>17850.0</td>\n",
       "      <td>United Kingdom</td>\n",
       "    </tr>\n",
       "  </tbody>\n",
       "</table>\n",
       "</div>"
      ],
      "text/plain": [
       "   ID InvoiceNo StockCode                          Description  Quantity  \\\n",
       "0   0    536365    85123A   WHITE HANGING HEART T-LIGHT HOLDER         6   \n",
       "1   1    536365     71053                  WHITE METAL LANTERN         6   \n",
       "2   2    536365    84406B       CREAM CUPID HEARTS COAT HANGER         8   \n",
       "3   3    536365    84029G  KNITTED UNION FLAG HOT WATER BOTTLE         6   \n",
       "4   4    536365    84029E       RED WOOLLY HOTTIE WHITE HEART.         6   \n",
       "\n",
       "      InvoiceDate  UnitPrice  CustomerID         Country  \n",
       "0  12/1/2010 8:26       2.55     17850.0  United Kingdom  \n",
       "1  12/1/2010 8:26       3.39     17850.0  United Kingdom  \n",
       "2  12/1/2010 8:26       2.75     17850.0  United Kingdom  \n",
       "3  12/1/2010 8:26       3.39     17850.0  United Kingdom  \n",
       "4  12/1/2010 8:26       3.39     17850.0  United Kingdom  "
      ]
     },
     "execution_count": 2,
     "metadata": {},
     "output_type": "execute_result"
    }
   ],
   "source": [
    "# load data\n",
    "df = pd.read_csv(\"customer_segmentation_file.csv\")\n",
    "df.head()"
   ]
  },
  {
   "cell_type": "markdown",
   "metadata": {},
   "source": [
    "# About the Dataset:\n",
    "The dataset has details of 541,909 entries with the following 8 features\n",
    "\n",
    "* InvoiceNo: Invoice number  <br>\n",
    "* StockCode: Stock code<br>\n",
    "* Description: Items details<br>\n",
    "* Quantity: Quantity purchase by customer<br>\n",
    "* InvoiceDate: Invoice Date on which item purchased<br>\n",
    "* UnitPrice: Price of the item<br>\n",
    "* CustomerID: Customer id<br>\n",
    "* Country: Country name<br>"
   ]
  },
  {
   "cell_type": "code",
   "execution_count": 3,
   "metadata": {},
   "outputs": [
    {
     "data": {
      "text/plain": [
       "United Kingdom    495478\n",
       "Germany             9495\n",
       "France              8557\n",
       "EIRE                8196\n",
       "Spain               2533\n",
       "Netherlands         2371\n",
       "Belgium             2069\n",
       "Switzerland         2002\n",
       "Portugal            1519\n",
       "Australia           1259\n",
       "Name: Country, dtype: int64"
      ]
     },
     "execution_count": 3,
     "metadata": {},
     "output_type": "execute_result"
    }
   ],
   "source": [
    "df['Country'].value_counts()[:10]"
   ]
  },
  {
   "cell_type": "code",
   "execution_count": 4,
   "metadata": {},
   "outputs": [],
   "source": [
    "# check the null values\n",
    "df.isnull().sum()\n",
    "# drop null values\n",
    "df.dropna(subset=['Description','CustomerID'],inplace=True)\n",
    "# check the null values\n",
    "df.isnull().sum()\n",
    "# only take one country\n",
    "df = df[df.Country== 'United Kingdom']"
   ]
  },
  {
   "cell_type": "markdown",
   "metadata": {},
   "source": [
    "In the InvoiceNo there are some entries which contains C before the number it means that customer returns the item. So create the new column Return where InvoiceNo contains the C"
   ]
  },
  {
   "cell_type": "code",
   "execution_count": 5,
   "metadata": {},
   "outputs": [],
   "source": [
    "# create new colums returns\n",
    "df['Return']=df.InvoiceNo.str.contains('C')\n",
    "# store the result in purchase \n",
    "df['Purchase'] = np.where(df[\"Return\"]==True,0,1)"
   ]
  },
  {
   "cell_type": "code",
   "execution_count": 6,
   "metadata": {},
   "outputs": [
    {
     "data": {
      "text/html": [
       "<div>\n",
       "<style scoped>\n",
       "    .dataframe tbody tr th:only-of-type {\n",
       "        vertical-align: middle;\n",
       "    }\n",
       "\n",
       "    .dataframe tbody tr th {\n",
       "        vertical-align: top;\n",
       "    }\n",
       "\n",
       "    .dataframe thead th {\n",
       "        text-align: right;\n",
       "    }\n",
       "</style>\n",
       "<table border=\"1\" class=\"dataframe\">\n",
       "  <thead>\n",
       "    <tr style=\"text-align: right;\">\n",
       "      <th></th>\n",
       "      <th>ID</th>\n",
       "      <th>InvoiceNo</th>\n",
       "      <th>StockCode</th>\n",
       "      <th>Description</th>\n",
       "      <th>Quantity</th>\n",
       "      <th>InvoiceDate</th>\n",
       "      <th>UnitPrice</th>\n",
       "      <th>CustomerID</th>\n",
       "      <th>Country</th>\n",
       "      <th>Return</th>\n",
       "      <th>Purchase</th>\n",
       "    </tr>\n",
       "  </thead>\n",
       "  <tbody>\n",
       "    <tr>\n",
       "      <th>0</th>\n",
       "      <td>0</td>\n",
       "      <td>536365</td>\n",
       "      <td>85123A</td>\n",
       "      <td>WHITE HANGING HEART T-LIGHT HOLDER</td>\n",
       "      <td>6</td>\n",
       "      <td>12/1/2010 8:26</td>\n",
       "      <td>2.55</td>\n",
       "      <td>17850.0</td>\n",
       "      <td>United Kingdom</td>\n",
       "      <td>False</td>\n",
       "      <td>1</td>\n",
       "    </tr>\n",
       "    <tr>\n",
       "      <th>1</th>\n",
       "      <td>1</td>\n",
       "      <td>536365</td>\n",
       "      <td>71053</td>\n",
       "      <td>WHITE METAL LANTERN</td>\n",
       "      <td>6</td>\n",
       "      <td>12/1/2010 8:26</td>\n",
       "      <td>3.39</td>\n",
       "      <td>17850.0</td>\n",
       "      <td>United Kingdom</td>\n",
       "      <td>False</td>\n",
       "      <td>1</td>\n",
       "    </tr>\n",
       "    <tr>\n",
       "      <th>2</th>\n",
       "      <td>2</td>\n",
       "      <td>536365</td>\n",
       "      <td>84406B</td>\n",
       "      <td>CREAM CUPID HEARTS COAT HANGER</td>\n",
       "      <td>8</td>\n",
       "      <td>12/1/2010 8:26</td>\n",
       "      <td>2.75</td>\n",
       "      <td>17850.0</td>\n",
       "      <td>United Kingdom</td>\n",
       "      <td>False</td>\n",
       "      <td>1</td>\n",
       "    </tr>\n",
       "    <tr>\n",
       "      <th>3</th>\n",
       "      <td>3</td>\n",
       "      <td>536365</td>\n",
       "      <td>84029G</td>\n",
       "      <td>KNITTED UNION FLAG HOT WATER BOTTLE</td>\n",
       "      <td>6</td>\n",
       "      <td>12/1/2010 8:26</td>\n",
       "      <td>3.39</td>\n",
       "      <td>17850.0</td>\n",
       "      <td>United Kingdom</td>\n",
       "      <td>False</td>\n",
       "      <td>1</td>\n",
       "    </tr>\n",
       "    <tr>\n",
       "      <th>4</th>\n",
       "      <td>4</td>\n",
       "      <td>536365</td>\n",
       "      <td>84029E</td>\n",
       "      <td>RED WOOLLY HOTTIE WHITE HEART.</td>\n",
       "      <td>6</td>\n",
       "      <td>12/1/2010 8:26</td>\n",
       "      <td>3.39</td>\n",
       "      <td>17850.0</td>\n",
       "      <td>United Kingdom</td>\n",
       "      <td>False</td>\n",
       "      <td>1</td>\n",
       "    </tr>\n",
       "  </tbody>\n",
       "</table>\n",
       "</div>"
      ],
      "text/plain": [
       "   ID InvoiceNo StockCode                          Description  Quantity  \\\n",
       "0   0    536365    85123A   WHITE HANGING HEART T-LIGHT HOLDER         6   \n",
       "1   1    536365     71053                  WHITE METAL LANTERN         6   \n",
       "2   2    536365    84406B       CREAM CUPID HEARTS COAT HANGER         8   \n",
       "3   3    536365    84029G  KNITTED UNION FLAG HOT WATER BOTTLE         6   \n",
       "4   4    536365    84029E       RED WOOLLY HOTTIE WHITE HEART.         6   \n",
       "\n",
       "      InvoiceDate  UnitPrice  CustomerID         Country  Return  Purchase  \n",
       "0  12/1/2010 8:26       2.55     17850.0  United Kingdom   False         1  \n",
       "1  12/1/2010 8:26       3.39     17850.0  United Kingdom   False         1  \n",
       "2  12/1/2010 8:26       2.75     17850.0  United Kingdom   False         1  \n",
       "3  12/1/2010 8:26       3.39     17850.0  United Kingdom   False         1  \n",
       "4  12/1/2010 8:26       3.39     17850.0  United Kingdom   False         1  "
      ]
     },
     "execution_count": 6,
     "metadata": {},
     "output_type": "execute_result"
    }
   ],
   "source": [
    "df.head()"
   ]
  },
  {
   "cell_type": "markdown",
   "metadata": {},
   "source": [
    "## Create customer-level dataset \n",
    "The aim is to create a customer-level dataset and add recency, frequency, and monetary value data to it.first calculate the recency. The recency variable refers to the number of days that have elapsed since the customer last purchased something (so, smaller numbers indicate more recent activity on the customer’s account)"
   ]
  },
  {
   "cell_type": "code",
   "execution_count": 7,
   "metadata": {},
   "outputs": [],
   "source": [
    "# Create a new dataframe using pd.Dataframewhich takes the unique CustomerID \n",
    "# and use the dtype = int store the result in a variable customers\n",
    "customers = pd.DataFrame({'CustomerID': df['CustomerID'].unique()},dtype=int)"
   ]
  },
  {
   "cell_type": "markdown",
   "metadata": {},
   "source": [
    "Calculate a feature of Recency by subtracting df['InvoiceDate'] from pd.to_datetime(\"2011-12-10\") and store the result in variable Recency.\n"
   ]
  },
  {
   "cell_type": "code",
   "execution_count": 8,
   "metadata": {},
   "outputs": [],
   "source": [
    "# calculate the recency\n",
    "df['InvoiceDate'] = pd.to_datetime(df['InvoiceDate'])\n",
    "df['Recency'] = pd.to_datetime(\"2011-12-10\") - (df['InvoiceDate'])"
   ]
  },
  {
   "cell_type": "markdown",
   "metadata": {},
   "source": [
    "Remove the time factor from Recency as df.Recency.dt.days"
   ]
  },
  {
   "cell_type": "code",
   "execution_count": 9,
   "metadata": {},
   "outputs": [],
   "source": [
    "# remove the time factor\n",
    "df.Recency = df.Recency.dt.days"
   ]
  },
  {
   "cell_type": "markdown",
   "metadata": {},
   "source": [
    "Remove Returns so only consider the data of most recent Purchase. Use Purchase == 1 to take the subset and store the result in the variable temp."
   ]
  },
  {
   "cell_type": "code",
   "execution_count": 10,
   "metadata": {},
   "outputs": [],
   "source": [
    "# purchase equal to one \n",
    "temp = df[df['Purchase']==1]"
   ]
  },
  {
   "cell_type": "markdown",
   "metadata": {},
   "source": [
    "check customers recent purchase.\n",
    "Groupby CustomerId with temp. use as_index= False and take the minimum as .min(), store the result in variable recency."
   ]
  },
  {
   "cell_type": "code",
   "execution_count": 11,
   "metadata": {},
   "outputs": [],
   "source": [
    "# customers latest purchase day\n",
    "recency=temp.groupby(by='CustomerID',as_index=False).min()\n",
    "customers=customers.merge(recency[['CustomerID','Recency']],on='CustomerID')"
   ]
  },
  {
   "cell_type": "code",
   "execution_count": 12,
   "metadata": {},
   "outputs": [
    {
     "data": {
      "text/html": [
       "<div>\n",
       "<style scoped>\n",
       "    .dataframe tbody tr th:only-of-type {\n",
       "        vertical-align: middle;\n",
       "    }\n",
       "\n",
       "    .dataframe tbody tr th {\n",
       "        vertical-align: top;\n",
       "    }\n",
       "\n",
       "    .dataframe thead th {\n",
       "        text-align: right;\n",
       "    }\n",
       "</style>\n",
       "<table border=\"1\" class=\"dataframe\">\n",
       "  <thead>\n",
       "    <tr style=\"text-align: right;\">\n",
       "      <th></th>\n",
       "      <th>CustomerID</th>\n",
       "      <th>Recency</th>\n",
       "    </tr>\n",
       "  </thead>\n",
       "  <tbody>\n",
       "    <tr>\n",
       "      <th>0</th>\n",
       "      <td>17850</td>\n",
       "      <td>372</td>\n",
       "    </tr>\n",
       "    <tr>\n",
       "      <th>1</th>\n",
       "      <td>13047</td>\n",
       "      <td>31</td>\n",
       "    </tr>\n",
       "    <tr>\n",
       "      <th>2</th>\n",
       "      <td>13748</td>\n",
       "      <td>95</td>\n",
       "    </tr>\n",
       "    <tr>\n",
       "      <th>3</th>\n",
       "      <td>15100</td>\n",
       "      <td>333</td>\n",
       "    </tr>\n",
       "    <tr>\n",
       "      <th>4</th>\n",
       "      <td>15291</td>\n",
       "      <td>25</td>\n",
       "    </tr>\n",
       "  </tbody>\n",
       "</table>\n",
       "</div>"
      ],
      "text/plain": [
       "   CustomerID  Recency\n",
       "0       17850      372\n",
       "1       13047       31\n",
       "2       13748       95\n",
       "3       15100      333\n",
       "4       15291       25"
      ]
     },
     "execution_count": 12,
     "metadata": {},
     "output_type": "execute_result"
    }
   ],
   "source": [
    "customers.head()"
   ]
  },
  {
   "cell_type": "markdown",
   "metadata": {},
   "source": [
    "# Calculate the frequency of Purchase\n",
    "Frequency refers to the number of invoices with purchases during the year."
   ]
  },
  {
   "cell_type": "code",
   "execution_count": 13,
   "metadata": {},
   "outputs": [
    {
     "name": "stdout",
     "output_type": "stream",
     "text": [
      "(3921, 3)\n"
     ]
    }
   ],
   "source": [
    "# Removing invoice number duplicates\n",
    "\n",
    "temp_1=df[['CustomerID','InvoiceNo','Purchase']]\n",
    "temp_1.drop_duplicates(subset=['InvoiceNo'],inplace=True)\n",
    "\n",
    "# calculte the frequency of the purchases\n",
    "annual_invoice=temp_1.groupby(by='CustomerID',as_index=False).sum()\n",
    "annual_invoice.rename(columns={'Purchase':'Frequency'},inplace=True)\n",
    "\n",
    "# merge in the Customer\n",
    "customers=customers.merge(annual_invoice,on='CustomerID')\n",
    "print(customers.shape)"
   ]
  },
  {
   "cell_type": "code",
   "execution_count": 14,
   "metadata": {},
   "outputs": [
    {
     "data": {
      "text/html": [
       "<div>\n",
       "<style scoped>\n",
       "    .dataframe tbody tr th:only-of-type {\n",
       "        vertical-align: middle;\n",
       "    }\n",
       "\n",
       "    .dataframe tbody tr th {\n",
       "        vertical-align: top;\n",
       "    }\n",
       "\n",
       "    .dataframe thead th {\n",
       "        text-align: right;\n",
       "    }\n",
       "</style>\n",
       "<table border=\"1\" class=\"dataframe\">\n",
       "  <thead>\n",
       "    <tr style=\"text-align: right;\">\n",
       "      <th></th>\n",
       "      <th>CustomerID</th>\n",
       "      <th>Recency</th>\n",
       "      <th>Frequency</th>\n",
       "    </tr>\n",
       "  </thead>\n",
       "  <tbody>\n",
       "    <tr>\n",
       "      <th>0</th>\n",
       "      <td>17850</td>\n",
       "      <td>372</td>\n",
       "      <td>34</td>\n",
       "    </tr>\n",
       "    <tr>\n",
       "      <th>1</th>\n",
       "      <td>13047</td>\n",
       "      <td>31</td>\n",
       "      <td>10</td>\n",
       "    </tr>\n",
       "    <tr>\n",
       "      <th>2</th>\n",
       "      <td>13748</td>\n",
       "      <td>95</td>\n",
       "      <td>5</td>\n",
       "    </tr>\n",
       "    <tr>\n",
       "      <th>3</th>\n",
       "      <td>15100</td>\n",
       "      <td>333</td>\n",
       "      <td>3</td>\n",
       "    </tr>\n",
       "    <tr>\n",
       "      <th>4</th>\n",
       "      <td>15291</td>\n",
       "      <td>25</td>\n",
       "      <td>15</td>\n",
       "    </tr>\n",
       "  </tbody>\n",
       "</table>\n",
       "</div>"
      ],
      "text/plain": [
       "   CustomerID  Recency  Frequency\n",
       "0       17850      372         34\n",
       "1       13047       31         10\n",
       "2       13748       95          5\n",
       "3       15100      333          3\n",
       "4       15291       25         15"
      ]
     },
     "execution_count": 14,
     "metadata": {},
     "output_type": "execute_result"
    }
   ],
   "source": [
    "customers.head()"
   ]
  },
  {
   "cell_type": "markdown",
   "metadata": {},
   "source": [
    "# Calculate the Monetary\n",
    "Monetary value is the amount that the customer spent during the year. Some customers have negative monetary values. These customers probably returned something during the year that they had purchased before the year started."
   ]
  },
  {
   "cell_type": "markdown",
   "metadata": {},
   "source": [
    "Calculate total spent on each item on an invoice by multiplying Quantity with UnitPrice and store the result in the new column Amount"
   ]
  },
  {
   "cell_type": "code",
   "execution_count": 15,
   "metadata": {},
   "outputs": [],
   "source": [
    "df['Amount'] = df['Quantity'] * df['UnitPrice']"
   ]
  },
  {
   "cell_type": "code",
   "execution_count": 16,
   "metadata": {},
   "outputs": [
    {
     "data": {
      "text/html": [
       "<div>\n",
       "<style scoped>\n",
       "    .dataframe tbody tr th:only-of-type {\n",
       "        vertical-align: middle;\n",
       "    }\n",
       "\n",
       "    .dataframe tbody tr th {\n",
       "        vertical-align: top;\n",
       "    }\n",
       "\n",
       "    .dataframe thead th {\n",
       "        text-align: right;\n",
       "    }\n",
       "</style>\n",
       "<table border=\"1\" class=\"dataframe\">\n",
       "  <thead>\n",
       "    <tr style=\"text-align: right;\">\n",
       "      <th></th>\n",
       "      <th>CustomerID</th>\n",
       "      <th>ID</th>\n",
       "      <th>Quantity</th>\n",
       "      <th>UnitPrice</th>\n",
       "      <th>Return</th>\n",
       "      <th>Purchase</th>\n",
       "      <th>Recency</th>\n",
       "      <th>monetary</th>\n",
       "    </tr>\n",
       "  </thead>\n",
       "  <tbody>\n",
       "    <tr>\n",
       "      <th>0</th>\n",
       "      <td>12346.0</td>\n",
       "      <td>123243</td>\n",
       "      <td>0</td>\n",
       "      <td>2.08</td>\n",
       "      <td>1</td>\n",
       "      <td>1</td>\n",
       "      <td>650</td>\n",
       "      <td>0.00</td>\n",
       "    </tr>\n",
       "    <tr>\n",
       "      <th>1</th>\n",
       "      <td>12747.0</td>\n",
       "      <td>25044162</td>\n",
       "      <td>1275</td>\n",
       "      <td>449.89</td>\n",
       "      <td>0</td>\n",
       "      <td>103</td>\n",
       "      <td>18537</td>\n",
       "      <td>4196.01</td>\n",
       "    </tr>\n",
       "    <tr>\n",
       "      <th>2</th>\n",
       "      <td>12748.0</td>\n",
       "      <td>1487355713</td>\n",
       "      <td>24210</td>\n",
       "      <td>15115.60</td>\n",
       "      <td>46</td>\n",
       "      <td>4596</td>\n",
       "      <td>597189</td>\n",
       "      <td>29072.10</td>\n",
       "    </tr>\n",
       "    <tr>\n",
       "      <th>3</th>\n",
       "      <td>12749.0</td>\n",
       "      <td>76607347</td>\n",
       "      <td>1422</td>\n",
       "      <td>1171.50</td>\n",
       "      <td>32</td>\n",
       "      <td>199</td>\n",
       "      <td>25743</td>\n",
       "      <td>3868.20</td>\n",
       "    </tr>\n",
       "    <tr>\n",
       "      <th>4</th>\n",
       "      <td>12820.0</td>\n",
       "      <td>21326023</td>\n",
       "      <td>722</td>\n",
       "      <td>112.38</td>\n",
       "      <td>0</td>\n",
       "      <td>59</td>\n",
       "      <td>5626</td>\n",
       "      <td>942.34</td>\n",
       "    </tr>\n",
       "  </tbody>\n",
       "</table>\n",
       "</div>"
      ],
      "text/plain": [
       "   CustomerID          ID  Quantity  UnitPrice  Return  Purchase  Recency  \\\n",
       "0     12346.0      123243         0       2.08       1         1      650   \n",
       "1     12747.0    25044162      1275     449.89       0       103    18537   \n",
       "2     12748.0  1487355713     24210   15115.60      46      4596   597189   \n",
       "3     12749.0    76607347      1422    1171.50      32       199    25743   \n",
       "4     12820.0    21326023       722     112.38       0        59     5626   \n",
       "\n",
       "   monetary  \n",
       "0      0.00  \n",
       "1   4196.01  \n",
       "2  29072.10  \n",
       "3   3868.20  \n",
       "4    942.34  "
      ]
     },
     "execution_count": 16,
     "metadata": {},
     "output_type": "execute_result"
    }
   ],
   "source": [
    "annual_sales = df.groupby(by='CustomerID',as_index=False).sum()\n",
    "annual_sales.rename(columns={'Amount':'monetary'},inplace=True)\n",
    "annual_sales.head()"
   ]
  },
  {
   "cell_type": "markdown",
   "metadata": {},
   "source": [
    "Merge the CustomerID, monetary on CustomerID. Use customers.merge(annual_sales[['CustomerID','monetary']] and store the result in the variable customers"
   ]
  },
  {
   "cell_type": "code",
   "execution_count": 17,
   "metadata": {},
   "outputs": [],
   "source": [
    "customers=customers.merge(annual_sales[['CustomerID','monetary']],on='CustomerID')"
   ]
  },
  {
   "cell_type": "markdown",
   "metadata": {},
   "source": [
    "# Data preprocessing\n",
    "K-means clustering requires continuous variables and works best with relatively normally-distributed, standardized input variables. Standardizing the input variables is quite important; otherwise, input variables with larger variances will have commensurately greater influence on the results.lets take the log of the features."
   ]
  },
  {
   "cell_type": "code",
   "execution_count": 18,
   "metadata": {},
   "outputs": [],
   "source": [
    "# negative monetory removed because they returned the object \n",
    "customers['monetary']=np.where(customers['monetary']<0,0,customers['monetary'])    \n",
    "\n",
    "# log transform\n",
    "customers['Recency_log']=np.log(customers['Recency']+0.1) # there values equals to zero to avoid log zero increase by +0.1\n",
    "customers['Frequency_log']=np.log(customers['Frequency'])\n",
    "customers['Monetary_log']=np.log(customers['monetary']+0.1)"
   ]
  },
  {
   "cell_type": "markdown",
   "metadata": {},
   "source": [
    "# Elbow method to find optimal number of clusters\n",
    "In this task you will use the elbow method to find the optimum number of clusters."
   ]
  },
  {
   "cell_type": "code",
   "execution_count": 19,
   "metadata": {},
   "outputs": [
    {
     "data": {
      "image/png": "[encoded data removed]",
      "text/plain": [
       "<Figure size 720x720 with 1 Axes>"
      ]
     },
     "metadata": {
      "needs_background": "light"
     },
     "output_type": "display_data"
    }
   ],
   "source": [
    "# import packages\n",
    "from sklearn.cluster import KMeans\n",
    "\n",
    "# Empty list for storing WCSS across all values of k\n",
    "dist = []\n",
    "\n",
    "# Iterate from 1-9\n",
    "for i in range(1,10):\n",
    "    # Initialize KMeans algorithm\n",
    "    km=KMeans(n_clusters=i,init='k-means++', max_iter=300, n_init=10, random_state=0)\n",
    "    # Fit on data\n",
    "    km.fit(customers.iloc[:,1:7])\n",
    "    # Append WCSS to list storing WCSS\n",
    "    dist.append(km.inertia_)\n",
    "\n",
    "# Initialize figure\n",
    "plt.figure(figsize=(10,10))\n",
    "\n",
    "# Line plot # clusters on X-axis and WCSS on Y-axis \n",
    "plt.plot(range(1,10),dist)\n",
    "plt.title('Elbow Method')\n",
    "plt.xlabel('Number of clusters')\n",
    "plt.ylabel('wcss')\n",
    "plt.show()\n"
   ]
  },
  {
   "cell_type": "markdown",
   "metadata": {},
   "source": [
    "# Elbow Method\n",
    "In the Elbow method, we are actually varying the number of clusters ( K ) from 1 – 10. For each value of K, we are calculating WCSS ( Within-Cluster Sum of Square ). WCSS is the sum of squared distance between each point and the centroid in a cluster. When we plot the WCSS with the K value, the plot looks like an Elbow. As the number of clusters increases, the WCSS value will start to decrease. WCSS value is largest when K = 1. When we analyze the graph we can see that the graph will rapidly change at a point and thus creating an elbow shape. From this point, the graph starts to move almost parallel to the X-axis. The K value corresponding to this point is the optimal K value or an optimal number of clusters."
   ]
  },
  {
   "cell_type": "markdown",
   "metadata": {},
   "source": [
    "# Use Kmeans to cluster data\n",
    "The management has made a decision to segment customers into 3 categories in order to analyse customer behaviour. Now that you have data in the proper format, time to apply KMeans clustering algorithm to form the required 3 clusters and look if any such meaningful clusters are formed."
   ]
  },
  {
   "cell_type": "code",
   "execution_count": 20,
   "metadata": {},
   "outputs": [],
   "source": [
    "# initialize KMeans object\n",
    "cluster = KMeans(n_clusters=3, init='k-means++', max_iter=300, n_init=10, random_state=0)"
   ]
  },
  {
   "cell_type": "markdown",
   "metadata": {},
   "source": [
    "Create a new column 'cluster' in the dataframe customers where you store the cluster centers for every observation from matrix. These cluster centers can be obtained using .fit_predict(customers.iloc[:,1:7]) method of customers. The first column isn't required as it contains the customer names."
   ]
  },
  {
   "cell_type": "code",
   "execution_count": 21,
   "metadata": {},
   "outputs": [],
   "source": [
    "# create 'cluster' column\n",
    "customers['cluster'] = cluster.fit_predict(customers.iloc[:,1:7])"
   ]
  },
  {
   "cell_type": "code",
   "execution_count": 22,
   "metadata": {},
   "outputs": [
    {
     "data": {
      "text/html": [
       "<div>\n",
       "<style scoped>\n",
       "    .dataframe tbody tr th:only-of-type {\n",
       "        vertical-align: middle;\n",
       "    }\n",
       "\n",
       "    .dataframe tbody tr th {\n",
       "        vertical-align: top;\n",
       "    }\n",
       "\n",
       "    .dataframe thead th {\n",
       "        text-align: right;\n",
       "    }\n",
       "</style>\n",
       "<table border=\"1\" class=\"dataframe\">\n",
       "  <thead>\n",
       "    <tr style=\"text-align: right;\">\n",
       "      <th></th>\n",
       "      <th>CustomerID</th>\n",
       "      <th>Recency</th>\n",
       "      <th>Frequency</th>\n",
       "      <th>monetary</th>\n",
       "      <th>Recency_log</th>\n",
       "      <th>Frequency_log</th>\n",
       "      <th>Monetary_log</th>\n",
       "      <th>cluster</th>\n",
       "    </tr>\n",
       "  </thead>\n",
       "  <tbody>\n",
       "    <tr>\n",
       "      <th>0</th>\n",
       "      <td>17850</td>\n",
       "      <td>372</td>\n",
       "      <td>34</td>\n",
       "      <td>5288.63</td>\n",
       "      <td>5.919163</td>\n",
       "      <td>3.526361</td>\n",
       "      <td>8.573333</td>\n",
       "      <td>0</td>\n",
       "    </tr>\n",
       "    <tr>\n",
       "      <th>1</th>\n",
       "      <td>13047</td>\n",
       "      <td>31</td>\n",
       "      <td>10</td>\n",
       "      <td>3079.10</td>\n",
       "      <td>3.437208</td>\n",
       "      <td>2.302585</td>\n",
       "      <td>8.032425</td>\n",
       "      <td>0</td>\n",
       "    </tr>\n",
       "    <tr>\n",
       "      <th>2</th>\n",
       "      <td>13748</td>\n",
       "      <td>95</td>\n",
       "      <td>5</td>\n",
       "      <td>948.25</td>\n",
       "      <td>4.554929</td>\n",
       "      <td>1.609438</td>\n",
       "      <td>6.854724</td>\n",
       "      <td>0</td>\n",
       "    </tr>\n",
       "    <tr>\n",
       "      <th>3</th>\n",
       "      <td>15100</td>\n",
       "      <td>333</td>\n",
       "      <td>3</td>\n",
       "      <td>635.10</td>\n",
       "      <td>5.808443</td>\n",
       "      <td>1.098612</td>\n",
       "      <td>6.453940</td>\n",
       "      <td>0</td>\n",
       "    </tr>\n",
       "    <tr>\n",
       "      <th>4</th>\n",
       "      <td>15291</td>\n",
       "      <td>25</td>\n",
       "      <td>15</td>\n",
       "      <td>4596.51</td>\n",
       "      <td>3.222868</td>\n",
       "      <td>2.708050</td>\n",
       "      <td>8.433074</td>\n",
       "      <td>0</td>\n",
       "    </tr>\n",
       "  </tbody>\n",
       "</table>\n",
       "</div>"
      ],
      "text/plain": [
       "   CustomerID  Recency  Frequency  monetary  Recency_log  Frequency_log  \\\n",
       "0       17850      372         34   5288.63     5.919163       3.526361   \n",
       "1       13047       31         10   3079.10     3.437208       2.302585   \n",
       "2       13748       95          5    948.25     4.554929       1.609438   \n",
       "3       15100      333          3    635.10     5.808443       1.098612   \n",
       "4       15291       25         15   4596.51     3.222868       2.708050   \n",
       "\n",
       "   Monetary_log  cluster  \n",
       "0      8.573333        0  \n",
       "1      8.032425        0  \n",
       "2      6.854724        0  \n",
       "3      6.453940        0  \n",
       "4      8.433074        0  "
      ]
     },
     "execution_count": 22,
     "metadata": {},
     "output_type": "execute_result"
    }
   ],
   "source": [
    "customers.head()"
   ]
  },
  {
   "cell_type": "code",
   "execution_count": 23,
   "metadata": {},
   "outputs": [
    {
     "data": {
      "text/plain": [
       "Index(['CustomerID', 'Recency', 'Frequency', 'monetary', 'Recency_log',\n",
       "       'Frequency_log', 'Monetary_log', 'cluster'],\n",
       "      dtype='object')"
      ]
     },
     "execution_count": 23,
     "metadata": {},
     "output_type": "execute_result"
    }
   ],
   "source": [
    "customers.columns"
   ]
  },
  {
   "cell_type": "code",
   "execution_count": 24,
   "metadata": {},
   "outputs": [
    {
     "data": {
      "image/png": "[encoded data removed]",
      "text/plain": [
       "<Figure size 432x288 with 2 Axes>"
      ]
     },
     "metadata": {
      "needs_background": "light"
     },
     "output_type": "display_data"
    }
   ],
   "source": [
    "# plot the cluster\n",
    "customers.plot.scatter(x= 'Frequency', y= 'monetary', c='cluster', colormap='viridis')\n",
    "plt.xlabel(\"Frequency\")\n",
    "plt.show()\n"
   ]
  },
  {
   "cell_type": "code",
   "execution_count": 25,
   "metadata": {},
   "outputs": [
    {
     "data": {
      "text/plain": [
       "0    3892\n",
       "2      27\n",
       "1       2\n",
       "Name: cluster, dtype: int64"
      ]
     },
     "execution_count": 25,
     "metadata": {},
     "output_type": "execute_result"
    }
   ],
   "source": [
    "customers['cluster'].value_counts()"
   ]
  },
  {
   "cell_type": "code",
   "execution_count": 26,
   "metadata": {},
   "outputs": [
    {
     "data": {
      "text/html": [
       "<div>\n",
       "<style scoped>\n",
       "    .dataframe tbody tr th:only-of-type {\n",
       "        vertical-align: middle;\n",
       "    }\n",
       "\n",
       "    .dataframe tbody tr th {\n",
       "        vertical-align: top;\n",
       "    }\n",
       "\n",
       "    .dataframe thead th {\n",
       "        text-align: right;\n",
       "    }\n",
       "</style>\n",
       "<table border=\"1\" class=\"dataframe\">\n",
       "  <thead>\n",
       "    <tr style=\"text-align: right;\">\n",
       "      <th></th>\n",
       "      <th>CustomerID</th>\n",
       "      <th>Recency</th>\n",
       "      <th>Frequency</th>\n",
       "      <th>monetary</th>\n",
       "      <th>Recency_log</th>\n",
       "      <th>Frequency_log</th>\n",
       "      <th>Monetary_log</th>\n",
       "      <th>cluster</th>\n",
       "    </tr>\n",
       "  </thead>\n",
       "  <tbody>\n",
       "    <tr>\n",
       "      <th>0</th>\n",
       "      <td>17850</td>\n",
       "      <td>372</td>\n",
       "      <td>34</td>\n",
       "      <td>5288.63</td>\n",
       "      <td>5.919163</td>\n",
       "      <td>3.526361</td>\n",
       "      <td>8.573333</td>\n",
       "      <td>0</td>\n",
       "    </tr>\n",
       "    <tr>\n",
       "      <th>1</th>\n",
       "      <td>13047</td>\n",
       "      <td>31</td>\n",
       "      <td>10</td>\n",
       "      <td>3079.10</td>\n",
       "      <td>3.437208</td>\n",
       "      <td>2.302585</td>\n",
       "      <td>8.032425</td>\n",
       "      <td>0</td>\n",
       "    </tr>\n",
       "    <tr>\n",
       "      <th>2</th>\n",
       "      <td>13748</td>\n",
       "      <td>95</td>\n",
       "      <td>5</td>\n",
       "      <td>948.25</td>\n",
       "      <td>4.554929</td>\n",
       "      <td>1.609438</td>\n",
       "      <td>6.854724</td>\n",
       "      <td>0</td>\n",
       "    </tr>\n",
       "    <tr>\n",
       "      <th>3</th>\n",
       "      <td>15100</td>\n",
       "      <td>333</td>\n",
       "      <td>3</td>\n",
       "      <td>635.10</td>\n",
       "      <td>5.808443</td>\n",
       "      <td>1.098612</td>\n",
       "      <td>6.453940</td>\n",
       "      <td>0</td>\n",
       "    </tr>\n",
       "    <tr>\n",
       "      <th>4</th>\n",
       "      <td>15291</td>\n",
       "      <td>25</td>\n",
       "      <td>15</td>\n",
       "      <td>4596.51</td>\n",
       "      <td>3.222868</td>\n",
       "      <td>2.708050</td>\n",
       "      <td>8.433074</td>\n",
       "      <td>0</td>\n",
       "    </tr>\n",
       "  </tbody>\n",
       "</table>\n",
       "</div>"
      ],
      "text/plain": [
       "   CustomerID  Recency  Frequency  monetary  Recency_log  Frequency_log  \\\n",
       "0       17850      372         34   5288.63     5.919163       3.526361   \n",
       "1       13047       31         10   3079.10     3.437208       2.302585   \n",
       "2       13748       95          5    948.25     4.554929       1.609438   \n",
       "3       15100      333          3    635.10     5.808443       1.098612   \n",
       "4       15291       25         15   4596.51     3.222868       2.708050   \n",
       "\n",
       "   Monetary_log  cluster  \n",
       "0      8.573333        0  \n",
       "1      8.032425        0  \n",
       "2      6.854724        0  \n",
       "3      6.453940        0  \n",
       "4      8.433074        0  "
      ]
     },
     "execution_count": 26,
     "metadata": {},
     "output_type": "execute_result"
    }
   ],
   "source": [
    "customers.head()"
   ]
  },
  {
   "cell_type": "code",
   "execution_count": null,
   "metadata": {},
   "outputs": [],
   "source": []
  }
 ],
 "metadata": {
  "kernelspec": {
   "display_name": "Python 3",
   "language": "python",
   "name": "python3"
  },
  "language_info": {
   "codemirror_mode": {
    "name": "ipython",
    "version": 3
   },
   "file_extension": ".py",
   "mimetype": "text/x-python",
   "name": "python",
   "nbconvert_exporter": "python",
   "pygments_lexer": "ipython3",
   "version": "3.6.7"
  }
 },
 "nbformat": 4,
 "nbformat_minor": 2
}
